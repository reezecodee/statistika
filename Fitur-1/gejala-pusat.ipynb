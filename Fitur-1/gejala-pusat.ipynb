{
 "cells": [
  {
   "cell_type": "code",
   "execution_count": 1,
   "metadata": {},
   "outputs": [],
   "source": [
    "import pandas as pd\n",
    "import numpy as np\n",
    "\n",
    "df = pd.read_csv('../gym-tracking.csv')\n",
    "data = df['Weight (kg)'].dropna().round().astype(int)\n",
    "\n",
    "# tentukan banyak kelas (K) dengan Rumus Sturges\n",
    "n = len(data)\n",
    "K = round(1 + 3.322 * np.log10(n))\n",
    "\n",
    "# tentukan rentang (R)\n",
    "max_value = int(data.max())\n",
    "min_value = int(data.min())\n",
    "R = max_value - min_value\n",
    "\n",
    "# tentukan lebar kelas (C)\n",
    "C = int(np.ceil(R / K))\n"
   ]
  },
  {
   "cell_type": "code",
   "execution_count": 2,
   "metadata": {},
   "outputs": [
    {
     "data": {
      "text/html": [
       "<div>\n",
       "<style scoped>\n",
       "    .dataframe tbody tr th:only-of-type {\n",
       "        vertical-align: middle;\n",
       "    }\n",
       "\n",
       "    .dataframe tbody tr th {\n",
       "        vertical-align: top;\n",
       "    }\n",
       "\n",
       "    .dataframe thead th {\n",
       "        text-align: right;\n",
       "    }\n",
       "</style>\n",
       "<table border=\"1\" class=\"dataframe\">\n",
       "  <thead>\n",
       "    <tr style=\"text-align: right;\">\n",
       "      <th></th>\n",
       "      <th>Interval Kelas</th>\n",
       "      <th>Batas Kelas Bawah</th>\n",
       "      <th>Batas Kelas Atas</th>\n",
       "      <th>Frekuensi</th>\n",
       "      <th>Titik Tengah</th>\n",
       "      <th>Frekuensi Terpusat</th>\n",
       "      <th>Frekuensi Kumulatif</th>\n",
       "    </tr>\n",
       "  </thead>\n",
       "  <tbody>\n",
       "    <tr>\n",
       "      <th>0</th>\n",
       "      <td>40 - 49</td>\n",
       "      <td>40.000000</td>\n",
       "      <td>48.181818</td>\n",
       "      <td>82</td>\n",
       "      <td>44.090909</td>\n",
       "      <td>3615.454545</td>\n",
       "      <td>82</td>\n",
       "    </tr>\n",
       "    <tr>\n",
       "      <th>1</th>\n",
       "      <td>50 - 58</td>\n",
       "      <td>48.181818</td>\n",
       "      <td>56.363636</td>\n",
       "      <td>128</td>\n",
       "      <td>52.272727</td>\n",
       "      <td>6690.909091</td>\n",
       "      <td>210</td>\n",
       "    </tr>\n",
       "    <tr>\n",
       "      <th>2</th>\n",
       "      <td>59 - 67</td>\n",
       "      <td>56.363636</td>\n",
       "      <td>64.545455</td>\n",
       "      <td>181</td>\n",
       "      <td>60.454545</td>\n",
       "      <td>10942.272727</td>\n",
       "      <td>391</td>\n",
       "    </tr>\n",
       "    <tr>\n",
       "      <th>3</th>\n",
       "      <td>68 - 76</td>\n",
       "      <td>64.545455</td>\n",
       "      <td>72.727273</td>\n",
       "      <td>148</td>\n",
       "      <td>68.636364</td>\n",
       "      <td>10158.181818</td>\n",
       "      <td>539</td>\n",
       "    </tr>\n",
       "    <tr>\n",
       "      <th>4</th>\n",
       "      <td>77 - 85</td>\n",
       "      <td>72.727273</td>\n",
       "      <td>80.909091</td>\n",
       "      <td>117</td>\n",
       "      <td>76.818182</td>\n",
       "      <td>8987.727273</td>\n",
       "      <td>656</td>\n",
       "    </tr>\n",
       "    <tr>\n",
       "      <th>5</th>\n",
       "      <td>86 - 94</td>\n",
       "      <td>80.909091</td>\n",
       "      <td>89.090909</td>\n",
       "      <td>134</td>\n",
       "      <td>85.000000</td>\n",
       "      <td>11390.000000</td>\n",
       "      <td>790</td>\n",
       "    </tr>\n",
       "    <tr>\n",
       "      <th>6</th>\n",
       "      <td>95 - 103</td>\n",
       "      <td>89.090909</td>\n",
       "      <td>97.272727</td>\n",
       "      <td>42</td>\n",
       "      <td>93.181818</td>\n",
       "      <td>3913.636364</td>\n",
       "      <td>832</td>\n",
       "    </tr>\n",
       "    <tr>\n",
       "      <th>7</th>\n",
       "      <td>104 - 112</td>\n",
       "      <td>97.272727</td>\n",
       "      <td>105.454545</td>\n",
       "      <td>35</td>\n",
       "      <td>101.363636</td>\n",
       "      <td>3547.727273</td>\n",
       "      <td>867</td>\n",
       "    </tr>\n",
       "    <tr>\n",
       "      <th>8</th>\n",
       "      <td>113 - 121</td>\n",
       "      <td>105.454545</td>\n",
       "      <td>113.636364</td>\n",
       "      <td>39</td>\n",
       "      <td>109.545455</td>\n",
       "      <td>4272.272727</td>\n",
       "      <td>906</td>\n",
       "    </tr>\n",
       "    <tr>\n",
       "      <th>9</th>\n",
       "      <td>122 - 130</td>\n",
       "      <td>113.636364</td>\n",
       "      <td>121.818182</td>\n",
       "      <td>28</td>\n",
       "      <td>117.727273</td>\n",
       "      <td>3296.363636</td>\n",
       "      <td>934</td>\n",
       "    </tr>\n",
       "    <tr>\n",
       "      <th>10</th>\n",
       "      <td>131 - 139</td>\n",
       "      <td>121.818182</td>\n",
       "      <td>130.000000</td>\n",
       "      <td>39</td>\n",
       "      <td>125.909091</td>\n",
       "      <td>4910.454545</td>\n",
       "      <td>973</td>\n",
       "    </tr>\n",
       "  </tbody>\n",
       "</table>\n",
       "</div>"
      ],
      "text/plain": [
       "   Interval Kelas  Batas Kelas Bawah  Batas Kelas Atas  Frekuensi  \\\n",
       "0         40 - 49          40.000000         48.181818         82   \n",
       "1         50 - 58          48.181818         56.363636        128   \n",
       "2         59 - 67          56.363636         64.545455        181   \n",
       "3         68 - 76          64.545455         72.727273        148   \n",
       "4         77 - 85          72.727273         80.909091        117   \n",
       "5         86 - 94          80.909091         89.090909        134   \n",
       "6        95 - 103          89.090909         97.272727         42   \n",
       "7       104 - 112          97.272727        105.454545         35   \n",
       "8       113 - 121         105.454545        113.636364         39   \n",
       "9       122 - 130         113.636364        121.818182         28   \n",
       "10      131 - 139         121.818182        130.000000         39   \n",
       "\n",
       "    Titik Tengah  Frekuensi Terpusat  Frekuensi Kumulatif  \n",
       "0      44.090909         3615.454545                   82  \n",
       "1      52.272727         6690.909091                  210  \n",
       "2      60.454545        10942.272727                  391  \n",
       "3      68.636364        10158.181818                  539  \n",
       "4      76.818182         8987.727273                  656  \n",
       "5      85.000000        11390.000000                  790  \n",
       "6      93.181818         3913.636364                  832  \n",
       "7     101.363636         3547.727273                  867  \n",
       "8     109.545455         4272.272727                  906  \n",
       "9     117.727273         3296.363636                  934  \n",
       "10    125.909091         4910.454545                  973  "
      ]
     },
     "execution_count": 2,
     "metadata": {},
     "output_type": "execute_result"
    }
   ],
   "source": [
    "# buat tabel distribusi frekuensi\n",
    "\n",
    "# tentukan batas kelas (kelas pertama hingga kelas terakhir)\n",
    "lower_bound = min_value\n",
    "upper_bound = lower_bound + C\n",
    "\n",
    "# membuat interval kelas dan batas kelas\n",
    "intervals = []\n",
    "for i in range(K):\n",
    "    intervals.append(f\"{lower_bound} - {upper_bound}\")\n",
    "    lower_bound = upper_bound + 1\n",
    "    upper_bound = lower_bound + C - 1\n",
    "\n",
    "frequencies, bins = np.histogram(data, bins=K, range=(min_value, max_value))\n",
    "cumulative_frequencies = np.cumsum(frequencies)\n",
    "midpoints = [(bin_start + bin_end) / 2 for bin_start, bin_end in zip(bins[:-1], bins[1:])]\n",
    "central_frequencies = frequencies * midpoints\n",
    "\n",
    "# buat dataframe untuk tabel distribusi frekuensi\n",
    "df_distribution = pd.DataFrame({\n",
    "    'Interval Kelas': intervals,\n",
    "    'Batas Kelas Bawah': bins[:-1],\n",
    "    'Batas Kelas Atas': bins[1:],\n",
    "    'Frekuensi': frequencies,\n",
    "    'Titik Tengah': midpoints,\n",
    "    'Frekuensi Terpusat': central_frequencies,\n",
    "    'Frekuensi Kumulatif': cumulative_frequencies\n",
    "})\n",
    "\n",
    "df_distribution"
   ]
  },
  {
   "cell_type": "code",
   "execution_count": 3,
   "metadata": {},
   "outputs": [
    {
     "name": "stdout",
     "output_type": "stream",
     "text": [
      "973\n",
      "71725.0\n"
     ]
    }
   ],
   "source": [
    "# hitung total frekuensi dan frekuensi terpusat\n",
    "n = df_distribution['Frekuensi'].sum()\n",
    "fm = df_distribution['Frekuensi Terpusat'].sum()\n",
    "\n",
    "print(n)\n",
    "print(fm)"
   ]
  },
  {
   "cell_type": "code",
   "execution_count": 4,
   "metadata": {},
   "outputs": [
    {
     "name": "stdout",
     "output_type": "stream",
     "text": [
      "Rata-rata hitung: 73.7153134635149\n"
     ]
    }
   ],
   "source": [
    "# menentukan rata-rata hitung\n",
    "x = fm / n\n",
    "print(f\"Rata-rata hitung: {x}\")"
   ]
  },
  {
   "cell_type": "code",
   "execution_count": 5,
   "metadata": {},
   "outputs": [
    {
     "name": "stdout",
     "output_type": "stream",
     "text": [
      "Median: 70.0\n"
     ]
    }
   ],
   "source": [
    "# menentukan median\n",
    "\n",
    "median = np.median(data)\n",
    "print(f\"Median: {median}\")"
   ]
  },
  {
   "cell_type": "code",
   "execution_count": 6,
   "metadata": {},
   "outputs": [
    {
     "name": "stdout",
     "output_type": "stream",
     "text": [
      "Modus: 64\n"
     ]
    }
   ],
   "source": [
    "# menentukan modus\n",
    "\n",
    "modus = data.mode()[0]\n",
    "print(f\"Modus: {modus}\")"
   ]
  },
  {
   "cell_type": "code",
   "execution_count": 7,
   "metadata": {},
   "outputs": [
    {
     "name": "stdout",
     "output_type": "stream",
     "text": [
      "Kuartil Q1: 58.0\n",
      "Kuartil Q2 (Median): 70.0\n",
      "Kuartil Q3: 86.0\n"
     ]
    }
   ],
   "source": [
    "# mencari kuartil\n",
    "\n",
    "Q1 = data.quantile(0.25)\n",
    "Q2 = data.quantile(0.50)  \n",
    "Q3 = data.quantile(0.75)\n",
    "\n",
    "print(f\"Kuartil Q1: {Q1}\")\n",
    "print(f\"Kuartil Q2 (Median): {Q2}\")\n",
    "print(f\"Kuartil Q3: {Q3}\")"
   ]
  },
  {
   "cell_type": "code",
   "execution_count": 8,
   "metadata": {},
   "outputs": [
    {
     "name": "stdout",
     "output_type": "stream",
     "text": [
      "Desil D1 (10%): 50.0\n",
      "Desil D2 (20%): 56.0\n",
      "Desil D3 (30%): 60.0\n"
     ]
    }
   ],
   "source": [
    "# mencari desil\n",
    "\n",
    "D1 = data.quantile(0.10)  \n",
    "D2 = data.quantile(0.20)  \n",
    "D3 = data.quantile(0.30) \n",
    "\n",
    "print(f\"Desil D1 (10%): {D1}\")\n",
    "print(f\"Desil D2 (20%): {D2}\")\n",
    "print(f\"Desil D3 (30%): {D3}\")"
   ]
  },
  {
   "cell_type": "code",
   "execution_count": 9,
   "metadata": {},
   "outputs": [
    {
     "name": "stdout",
     "output_type": "stream",
     "text": [
      "Persentil P25: 58.0\n",
      "Persentil P50 (Median): 70.0\n",
      "Persentil P75: 86.0\n"
     ]
    }
   ],
   "source": [
    "# mencari persentil\n",
    "\n",
    "P25 = data.quantile(0.25)  \n",
    "P50 = data.quantile(0.50)  \n",
    "P75 = data.quantile(0.75)  \n",
    "\n",
    "print(f\"Persentil P25: {P25}\")\n",
    "print(f\"Persentil P50 (Median): {P50}\")\n",
    "print(f\"Persentil P75: {P75}\")"
   ]
  }
 ],
 "metadata": {
  "kernelspec": {
   "display_name": "Python 3",
   "language": "python",
   "name": "python3"
  },
  "language_info": {
   "codemirror_mode": {
    "name": "ipython",
    "version": 3
   },
   "file_extension": ".py",
   "mimetype": "text/x-python",
   "name": "python",
   "nbconvert_exporter": "python",
   "pygments_lexer": "ipython3",
   "version": "3.12.3"
  }
 },
 "nbformat": 4,
 "nbformat_minor": 2
}
