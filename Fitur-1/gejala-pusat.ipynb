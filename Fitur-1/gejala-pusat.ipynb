{
 "cells": [
  {
   "cell_type": "code",
   "execution_count": 75,
   "metadata": {},
   "outputs": [
    {
     "name": "stdout",
     "output_type": "stream",
     "text": [
      "n: 973\n",
      "K: 11\n",
      "Max: 130\n",
      "Min: 40\n",
      "Rentang: 90\n",
      "Lebar kelas: 9\n"
     ]
    }
   ],
   "source": [
    "import pandas as pd\n",
    "import numpy as np\n",
    "\n",
    "df = pd.read_csv('../gym-tracking.csv')\n",
    "data = df['Weight (kg)'].dropna().round().astype(int)\n",
    "\n",
    "# tentukan banyak kelas (K) dengan Rumus Sturges\n",
    "n = len(data)\n",
    "K = round(1 + 3.322 * np.log10(n))\n",
    "\n",
    "# tentukan rentang (R)\n",
    "max_value = int(data.max())\n",
    "min_value = int(data.min())\n",
    "R = max_value - min_value\n",
    "\n",
    "# tentukan lebar kelas (C)\n",
    "C = int(np.ceil(R / K))\n",
    "\n",
    "print(f\"n: {n}\")\n",
    "print(f\"K: {K}\")\n",
    "print(f\"Max: {max_value}\")\n",
    "print(f\"Min: {min_value}\")\n",
    "print(f\"Rentang: {R}\")\n",
    "print(f\"Lebar kelas: {C}\")\n"
   ]
  },
  {
   "cell_type": "code",
   "execution_count": 76,
   "metadata": {},
   "outputs": [],
   "source": [
    "lower_bound = min_value\n",
    "upper_bound = lower_bound + C\n",
    "\n",
    "intervals = []\n",
    "for i in range(K):\n",
    "    intervals.append(f\"{lower_bound} - {upper_bound}\")\n",
    "    lower_bound = upper_bound + 1\n",
    "    upper_bound = lower_bound + C - 1\n",
    "\n",
    "frequencies, bins = np.histogram(data, bins=K, range=(min_value, max_value))\n",
    "midpoints = [(bin_start + bin_end) / 2 for bin_start, bin_end in zip(bins[:-1], bins[1:])]\n",
    "central_frequencies = frequencies * midpoints\n",
    "\n",
    "df_distribution = pd.DataFrame({\n",
    "    'Frekuensi Terpusat': central_frequencies,\n",
    "})\n"
   ]
  },
  {
   "cell_type": "code",
   "execution_count": 77,
   "metadata": {},
   "outputs": [
    {
     "name": "stdout",
     "output_type": "stream",
     "text": [
      "Rata-rata hitung: 73.7153134635149\n"
     ]
    }
   ],
   "source": [
    "# menentukan rata-rata hitung\n",
    "x = df_distribution['Frekuensi Terpusat'].sum() / n\n",
    "print(f\"Rata-rata hitung: {x}\")"
   ]
  },
  {
   "cell_type": "code",
   "execution_count": 78,
   "metadata": {},
   "outputs": [
    {
     "name": "stdout",
     "output_type": "stream",
     "text": [
      "Median: 70.0\n"
     ]
    }
   ],
   "source": [
    "# menentukan median\n",
    "\n",
    "median = np.median(data)\n",
    "print(f\"Median: {median}\")"
   ]
  },
  {
   "cell_type": "code",
   "execution_count": 79,
   "metadata": {},
   "outputs": [
    {
     "name": "stdout",
     "output_type": "stream",
     "text": [
      "Modus: 64\n"
     ]
    }
   ],
   "source": [
    "# menentukan modus\n",
    "\n",
    "modus = data.mode()[0]\n",
    "print(f\"Modus: {modus}\")"
   ]
  },
  {
   "cell_type": "code",
   "execution_count": 80,
   "metadata": {},
   "outputs": [
    {
     "name": "stdout",
     "output_type": "stream",
     "text": [
      "Kuartil Q1: 58.0\n",
      "Kuartil Q2 (Median): 70.0\n",
      "Kuartil Q3: 86.0\n"
     ]
    }
   ],
   "source": [
    "# mencari kuartil\n",
    "\n",
    "Q1 = data.quantile(0.25)\n",
    "Q2 = data.quantile(0.50)  \n",
    "Q3 = data.quantile(0.75)\n",
    "\n",
    "print(f\"Kuartil Q1: {Q1}\")\n",
    "print(f\"Kuartil Q2 (Median): {Q2}\")\n",
    "print(f\"Kuartil Q3: {Q3}\")"
   ]
  },
  {
   "cell_type": "code",
   "execution_count": 81,
   "metadata": {},
   "outputs": [
    {
     "name": "stdout",
     "output_type": "stream",
     "text": [
      "Desil D1 (10%): 50.0\n",
      "Desil D2 (20%): 56.0\n",
      "Desil D3 (30%): 60.0\n"
     ]
    }
   ],
   "source": [
    "# mencari desil\n",
    "\n",
    "D1 = data.quantile(0.10)  \n",
    "D2 = data.quantile(0.20)  \n",
    "D3 = data.quantile(0.30) \n",
    "\n",
    "print(f\"Desil D1 (10%): {D1}\")\n",
    "print(f\"Desil D2 (20%): {D2}\")\n",
    "print(f\"Desil D3 (30%): {D3}\")"
   ]
  },
  {
   "cell_type": "code",
   "execution_count": 82,
   "metadata": {},
   "outputs": [
    {
     "name": "stdout",
     "output_type": "stream",
     "text": [
      "Persentil P25: 58.0\n",
      "Persentil P50 (Median): 70.0\n",
      "Persentil P75: 86.0\n"
     ]
    }
   ],
   "source": [
    "# mencari persentil\n",
    "\n",
    "P25 = data.quantile(0.25)  \n",
    "P50 = data.quantile(0.50)  \n",
    "P75 = data.quantile(0.75)  \n",
    "\n",
    "print(f\"Persentil P25: {P25}\")\n",
    "print(f\"Persentil P50 (Median): {P50}\")\n",
    "print(f\"Persentil P75: {P75}\")"
   ]
  }
 ],
 "metadata": {
  "kernelspec": {
   "display_name": "Python 3",
   "language": "python",
   "name": "python3"
  },
  "language_info": {
   "codemirror_mode": {
    "name": "ipython",
    "version": 3
   },
   "file_extension": ".py",
   "mimetype": "text/x-python",
   "name": "python",
   "nbconvert_exporter": "python",
   "pygments_lexer": "ipython3",
   "version": "3.12.3"
  }
 },
 "nbformat": 4,
 "nbformat_minor": 2
}
