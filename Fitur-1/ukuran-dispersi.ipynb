{
 "cells": [
  {
   "cell_type": "code",
   "execution_count": 15,
   "metadata": {},
   "outputs": [],
   "source": [
    "import pandas as pd\n",
    "import numpy as np\n",
    "\n",
    "df = pd.read_csv('../gym-tracking.csv')\n",
    "data = df['Weight (kg)'].dropna().round().astype(int)"
   ]
  },
  {
   "cell_type": "code",
   "execution_count": 16,
   "metadata": {},
   "outputs": [
    {
     "name": "stdout",
     "output_type": "stream",
     "text": [
      "Range: 90\n"
     ]
    }
   ],
   "source": [
    "# mencari range\n",
    "\n",
    "R = data.max() - data.min()\n",
    "print(f\"Range: {R}\")"
   ]
  },
  {
   "cell_type": "code",
   "execution_count": 17,
   "metadata": {},
   "outputs": [
    {
     "name": "stdout",
     "output_type": "stream",
     "text": [
      "Simpangan Rata-rata: 16.97954958599557\n"
     ]
    }
   ],
   "source": [
    "# mencari simpangan rata-rata\n",
    "\n",
    "mean = np.mean(data)\n",
    "mad = (data - mean).abs().mean()\n",
    "\n",
    "print(f\"Simpangan Rata-rata: {mad}\")"
   ]
  },
  {
   "cell_type": "code",
   "execution_count": 18,
   "metadata": {},
   "outputs": [
    {
     "name": "stdout",
     "output_type": "stream",
     "text": [
      "Varians: 449.3753164844428\n"
     ]
    }
   ],
   "source": [
    "# mencari variasi\n",
    "\n",
    "variance = np.var(data)\n",
    "\n",
    "print(f\"Varians: {variance}\")"
   ]
  },
  {
   "cell_type": "code",
   "execution_count": 19,
   "metadata": {},
   "outputs": [
    {
     "name": "stdout",
     "output_type": "stream",
     "text": [
      "Standard deviasi: 21.198474390494304\n"
     ]
    }
   ],
   "source": [
    "# mencari standar deviasi\n",
    "\n",
    "std = np.std(data)\n",
    "\n",
    "print(f\"Standard deviasi: {std}\")"
   ]
  },
  {
   "cell_type": "code",
   "execution_count": 20,
   "metadata": {},
   "outputs": [
    {
     "name": "stdout",
     "output_type": "stream",
     "text": [
      "Jangkauan kuartil: 28.0\n"
     ]
    }
   ],
   "source": [
    "# mencari jangkauan kuartil\n",
    "\n",
    "Q1 = data.quantile(0.25)\n",
    "Q3 = data.quantile(0.75)\n",
    "\n",
    "IQR = Q3 - Q1\n",
    "\n",
    "print(f\"Jangkauan kuartil: {IQR}\")"
   ]
  },
  {
   "cell_type": "code",
   "execution_count": 21,
   "metadata": {},
   "outputs": [
    {
     "name": "stdout",
     "output_type": "stream",
     "text": [
      "Jangkauan persentil: 28.0\n"
     ]
    }
   ],
   "source": [
    "# mencari jangkauan persentil\n",
    "\n",
    "P25 = data.quantile(0.25)\n",
    "P75 = data.quantile(0.75)\n",
    "\n",
    "percentile_range = P75 - P25\n",
    "\n",
    "print(f\"Jangkauan persentil: {percentile_range}\")"
   ]
  }
 ],
 "metadata": {
  "kernelspec": {
   "display_name": "Python 3",
   "language": "python",
   "name": "python3"
  },
  "language_info": {
   "codemirror_mode": {
    "name": "ipython",
    "version": 3
   },
   "file_extension": ".py",
   "mimetype": "text/x-python",
   "name": "python",
   "nbconvert_exporter": "python",
   "pygments_lexer": "ipython3",
   "version": "3.12.3"
  }
 },
 "nbformat": 4,
 "nbformat_minor": 2
}
