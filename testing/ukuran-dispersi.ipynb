{
 "cells": [
  {
   "cell_type": "code",
   "execution_count": 1,
   "metadata": {},
   "outputs": [],
   "source": [
    "import pandas as pd\n",
    "import numpy as np\n",
    "\n",
    "df = pd.read_csv('../gym-tracking.csv')\n",
    "data = df['Weight (kg)'].dropna().round().astype(int).head(50)"
   ]
  },
  {
   "cell_type": "code",
   "execution_count": 2,
   "metadata": {},
   "outputs": [
    {
     "name": "stdout",
     "output_type": "stream",
     "text": [
      "128\n",
      "42\n",
      "Range: 86\n"
     ]
    }
   ],
   "source": [
    "# mencari range\n",
    "\n",
    "R = data.max() - data.min()\n",
    "print(data.max())\n",
    "print(data.min())\n",
    "print(f\"Range: {R}\")"
   ]
  },
  {
   "cell_type": "code",
   "execution_count": 3,
   "metadata": {},
   "outputs": [
    {
     "name": "stdout",
     "output_type": "stream",
     "text": [
      "Simpangan Rata-rata: 20.428\n"
     ]
    }
   ],
   "source": [
    "# mencari simpangan rata-rata\n",
    "\n",
    "mean = np.mean(data)\n",
    "mad = (data - mean).abs().mean()\n",
    "\n",
    "print(f\"Simpangan Rata-rata: {mad}\")"
   ]
  },
  {
   "cell_type": "code",
   "execution_count": 4,
   "metadata": {},
   "outputs": [
    {
     "name": "stdout",
     "output_type": "stream",
     "text": [
      "Varians: 603.57\n"
     ]
    }
   ],
   "source": [
    "# mencari variasi\n",
    "\n",
    "variance = np.var(data)\n",
    "\n",
    "print(f\"Varians: {variance}\")"
   ]
  },
  {
   "cell_type": "code",
   "execution_count": 5,
   "metadata": {},
   "outputs": [
    {
     "name": "stdout",
     "output_type": "stream",
     "text": [
      "Standard deviasi: 24.567661671392337\n"
     ]
    }
   ],
   "source": [
    "# mencari standar deviasi\n",
    "\n",
    "std = np.std(data)\n",
    "\n",
    "print(f\"Standard deviasi: {std}\")"
   ]
  },
  {
   "cell_type": "code",
   "execution_count": 6,
   "metadata": {},
   "outputs": [
    {
     "name": "stdout",
     "output_type": "stream",
     "text": [
      "Jangkauan kuartil: 30.5\n"
     ]
    }
   ],
   "source": [
    "# mencari jangkauan kuartil\n",
    "\n",
    "Q1 = data.quantile(0.25)\n",
    "Q3 = data.quantile(0.75)\n",
    "\n",
    "IQR = Q3 - Q1\n",
    "\n",
    "print(f\"Jangkauan kuartil: {IQR}\")"
   ]
  },
  {
   "cell_type": "code",
   "execution_count": 7,
   "metadata": {},
   "outputs": [
    {
     "name": "stdout",
     "output_type": "stream",
     "text": [
      "Jangkauan persentil: 30.5\n"
     ]
    }
   ],
   "source": [
    "# mencari jangkauan persentil\n",
    "\n",
    "P25 = data.quantile(0.25)\n",
    "P75 = data.quantile(0.75)\n",
    "\n",
    "percentile_range = P75 - P25\n",
    "\n",
    "print(f\"Jangkauan persentil: {percentile_range}\")"
   ]
  }
 ],
 "metadata": {
  "kernelspec": {
   "display_name": "Python 3",
   "language": "python",
   "name": "python3"
  },
  "language_info": {
   "codemirror_mode": {
    "name": "ipython",
    "version": 3
   },
   "file_extension": ".py",
   "mimetype": "text/x-python",
   "name": "python",
   "nbconvert_exporter": "python",
   "pygments_lexer": "ipython3",
   "version": "3.12.3"
  }
 },
 "nbformat": 4,
 "nbformat_minor": 2
}
