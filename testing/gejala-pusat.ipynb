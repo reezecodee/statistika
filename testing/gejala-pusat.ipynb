{
 "cells": [
  {
   "cell_type": "code",
   "execution_count": 1,
   "metadata": {},
   "outputs": [
    {
     "name": "stdout",
     "output_type": "stream",
     "text": [
      "n: 50\n",
      "K: 7\n",
      "Max: 128\n",
      "Min: 42\n",
      "Rentang: 86\n",
      "Lebar kelas: 13\n"
     ]
    }
   ],
   "source": [
    "import pandas as pd\n",
    "import numpy as np\n",
    "\n",
    "df = pd.read_csv('../gym-tracking.csv')\n",
    "data = df['Weight (kg)'].dropna().round().astype(int).head(50)\n",
    "\n",
    "# tentukan banyak kelas (K) dengan Rumus Sturges\n",
    "n = len(data)\n",
    "K = round(1 + 3.322 * np.log10(n))\n",
    "\n",
    "# tentukan rentang (R)\n",
    "max_value = int(data.max())\n",
    "min_value = int(data.min())\n",
    "R = max_value - min_value\n",
    "\n",
    "# tentukan lebar kelas (C)\n",
    "C = int(np.ceil(R / K))\n",
    "\n",
    "print(f\"n: {n}\")\n",
    "print(f\"K: {K}\")\n",
    "print(f\"Max: {max_value}\")\n",
    "print(f\"Min: {min_value}\")\n",
    "print(f\"Rentang: {R}\")\n",
    "print(f\"Lebar kelas: {C}\")\n"
   ]
  },
  {
   "cell_type": "code",
   "execution_count": 2,
   "metadata": {},
   "outputs": [
    {
     "data": {
      "text/html": [
       "<div>\n",
       "<style scoped>\n",
       "    .dataframe tbody tr th:only-of-type {\n",
       "        vertical-align: middle;\n",
       "    }\n",
       "\n",
       "    .dataframe tbody tr th {\n",
       "        vertical-align: top;\n",
       "    }\n",
       "\n",
       "    .dataframe thead th {\n",
       "        text-align: right;\n",
       "    }\n",
       "</style>\n",
       "<table border=\"1\" class=\"dataframe\">\n",
       "  <thead>\n",
       "    <tr style=\"text-align: right;\">\n",
       "      <th></th>\n",
       "      <th>Interval Kelas</th>\n",
       "      <th>Batas Kelas Bawah</th>\n",
       "      <th>Batas Kelas Atas</th>\n",
       "      <th>Frekuensi</th>\n",
       "      <th>Titik Tengah</th>\n",
       "      <th>Frekuensi Terpusat</th>\n",
       "      <th>Frekuensi Kumulatif</th>\n",
       "    </tr>\n",
       "  </thead>\n",
       "  <tbody>\n",
       "    <tr>\n",
       "      <th>0</th>\n",
       "      <td>42 - 55</td>\n",
       "      <td>42.000000</td>\n",
       "      <td>54.285714</td>\n",
       "      <td>11</td>\n",
       "      <td>48.142857</td>\n",
       "      <td>529.571429</td>\n",
       "      <td>11</td>\n",
       "    </tr>\n",
       "    <tr>\n",
       "      <th>1</th>\n",
       "      <td>56 - 68</td>\n",
       "      <td>54.285714</td>\n",
       "      <td>66.571429</td>\n",
       "      <td>12</td>\n",
       "      <td>60.428571</td>\n",
       "      <td>725.142857</td>\n",
       "      <td>23</td>\n",
       "    </tr>\n",
       "    <tr>\n",
       "      <th>2</th>\n",
       "      <td>69 - 81</td>\n",
       "      <td>66.571429</td>\n",
       "      <td>78.857143</td>\n",
       "      <td>9</td>\n",
       "      <td>72.714286</td>\n",
       "      <td>654.428571</td>\n",
       "      <td>32</td>\n",
       "    </tr>\n",
       "    <tr>\n",
       "      <th>3</th>\n",
       "      <td>82 - 94</td>\n",
       "      <td>78.857143</td>\n",
       "      <td>91.142857</td>\n",
       "      <td>6</td>\n",
       "      <td>85.000000</td>\n",
       "      <td>510.000000</td>\n",
       "      <td>38</td>\n",
       "    </tr>\n",
       "    <tr>\n",
       "      <th>4</th>\n",
       "      <td>95 - 107</td>\n",
       "      <td>91.142857</td>\n",
       "      <td>103.428571</td>\n",
       "      <td>3</td>\n",
       "      <td>97.285714</td>\n",
       "      <td>291.857143</td>\n",
       "      <td>41</td>\n",
       "    </tr>\n",
       "    <tr>\n",
       "      <th>5</th>\n",
       "      <td>108 - 120</td>\n",
       "      <td>103.428571</td>\n",
       "      <td>115.714286</td>\n",
       "      <td>3</td>\n",
       "      <td>109.571429</td>\n",
       "      <td>328.714286</td>\n",
       "      <td>44</td>\n",
       "    </tr>\n",
       "    <tr>\n",
       "      <th>6</th>\n",
       "      <td>121 - 133</td>\n",
       "      <td>115.714286</td>\n",
       "      <td>128.000000</td>\n",
       "      <td>6</td>\n",
       "      <td>121.857143</td>\n",
       "      <td>731.142857</td>\n",
       "      <td>50</td>\n",
       "    </tr>\n",
       "  </tbody>\n",
       "</table>\n",
       "</div>"
      ],
      "text/plain": [
       "  Interval Kelas  Batas Kelas Bawah  Batas Kelas Atas  Frekuensi  \\\n",
       "0        42 - 55          42.000000         54.285714         11   \n",
       "1        56 - 68          54.285714         66.571429         12   \n",
       "2        69 - 81          66.571429         78.857143          9   \n",
       "3        82 - 94          78.857143         91.142857          6   \n",
       "4       95 - 107          91.142857        103.428571          3   \n",
       "5      108 - 120         103.428571        115.714286          3   \n",
       "6      121 - 133         115.714286        128.000000          6   \n",
       "\n",
       "   Titik Tengah  Frekuensi Terpusat  Frekuensi Kumulatif  \n",
       "0     48.142857          529.571429                   11  \n",
       "1     60.428571          725.142857                   23  \n",
       "2     72.714286          654.428571                   32  \n",
       "3     85.000000          510.000000                   38  \n",
       "4     97.285714          291.857143                   41  \n",
       "5    109.571429          328.714286                   44  \n",
       "6    121.857143          731.142857                   50  "
      ]
     },
     "execution_count": 2,
     "metadata": {},
     "output_type": "execute_result"
    }
   ],
   "source": [
    "# buat tabel distribusi frekuensi\n",
    "\n",
    "# tentukan batas kelas (kelas pertama hingga kelas terakhir)\n",
    "lower_bound = min_value\n",
    "upper_bound = lower_bound + C\n",
    "\n",
    "# membuat interval kelas dan batas kelas\n",
    "intervals = []\n",
    "for i in range(K):\n",
    "    intervals.append(f\"{lower_bound} - {upper_bound}\")\n",
    "    lower_bound = upper_bound + 1\n",
    "    upper_bound = lower_bound + C - 1\n",
    "\n",
    "frequencies, bins = np.histogram(data, bins=K, range=(min_value, max_value))\n",
    "cumulative_frequencies = np.cumsum(frequencies)\n",
    "midpoints = [(bin_start + bin_end) / 2 for bin_start, bin_end in zip(bins[:-1], bins[1:])]\n",
    "central_frequencies = frequencies * midpoints\n",
    "\n",
    "# buat dataframe untuk tabel distribusi frekuensi\n",
    "df_distribution = pd.DataFrame({\n",
    "    'Interval Kelas': intervals,\n",
    "    'Batas Kelas Bawah': bins[:-1],\n",
    "    'Batas Kelas Atas': bins[1:],\n",
    "    'Frekuensi': frequencies,\n",
    "    'Titik Tengah': midpoints,\n",
    "    'Frekuensi Terpusat': central_frequencies,\n",
    "    'Frekuensi Kumulatif': cumulative_frequencies\n",
    "})\n",
    "\n",
    "df_distribution"
   ]
  },
  {
   "cell_type": "code",
   "execution_count": 3,
   "metadata": {},
   "outputs": [
    {
     "name": "stdout",
     "output_type": "stream",
     "text": [
      "n: 50\n",
      "Frekuensi terpusat: 3770.857142857143\n"
     ]
    }
   ],
   "source": [
    "# hitung total frekuensi dan frekuensi terpusat\n",
    "n = df_distribution['Frekuensi'].sum()\n",
    "fm = df_distribution['Frekuensi Terpusat'].sum()\n",
    "\n",
    "print(f\"n: {n}\")\n",
    "print(f\"Frekuensi terpusat: {fm}\")"
   ]
  },
  {
   "cell_type": "code",
   "execution_count": 4,
   "metadata": {},
   "outputs": [
    {
     "name": "stdout",
     "output_type": "stream",
     "text": [
      "Rata-rata hitung: 75.41714285714286\n"
     ]
    }
   ],
   "source": [
    "# menentukan rata-rata hitung\n",
    "x = fm / n\n",
    "print(f\"Rata-rata hitung: {x}\")"
   ]
  },
  {
   "cell_type": "code",
   "execution_count": 5,
   "metadata": {},
   "outputs": [
    {
     "name": "stdout",
     "output_type": "stream",
     "text": [
      "Median: 69.0\n"
     ]
    }
   ],
   "source": [
    "# menentukan median\n",
    "\n",
    "median = np.median(data)\n",
    "print(f\"Median: {median}\")"
   ]
  },
  {
   "cell_type": "code",
   "execution_count": 6,
   "metadata": {},
   "outputs": [
    {
     "name": "stdout",
     "output_type": "stream",
     "text": [
      "Modus: 64\n"
     ]
    }
   ],
   "source": [
    "# menentukan modus\n",
    "\n",
    "modus = data.mode()[0]\n",
    "print(f\"Modus: {modus}\")"
   ]
  },
  {
   "cell_type": "code",
   "execution_count": 7,
   "metadata": {},
   "outputs": [
    {
     "name": "stdout",
     "output_type": "stream",
     "text": [
      "Kuartil Q1: 58.25\n",
      "Kuartil Q2 (Median): 69.0\n",
      "Kuartil Q3: 88.75\n"
     ]
    }
   ],
   "source": [
    "# mencari kuartil\n",
    "\n",
    "Q1 = data.quantile(0.25)\n",
    "Q2 = data.quantile(0.50)  \n",
    "Q3 = data.quantile(0.75)\n",
    "\n",
    "print(f\"Kuartil Q1: {Q1}\")\n",
    "print(f\"Kuartil Q2 (Median): {Q2}\")\n",
    "print(f\"Kuartil Q3: {Q3}\")"
   ]
  },
  {
   "cell_type": "code",
   "execution_count": 8,
   "metadata": {},
   "outputs": [
    {
     "name": "stdout",
     "output_type": "stream",
     "text": [
      "Desil D1 (10%): 48.7\n",
      "Desil D2 (20%): 53.8\n",
      "Desil D3 (30%): 59.7\n"
     ]
    }
   ],
   "source": [
    "# mencari desil\n",
    "\n",
    "D1 = data.quantile(0.10)  \n",
    "D2 = data.quantile(0.20)  \n",
    "D3 = data.quantile(0.30) \n",
    "\n",
    "print(f\"Desil D1 (10%): {D1}\")\n",
    "print(f\"Desil D2 (20%): {D2}\")\n",
    "print(f\"Desil D3 (30%): {D3}\")"
   ]
  },
  {
   "cell_type": "code",
   "execution_count": 9,
   "metadata": {},
   "outputs": [
    {
     "name": "stdout",
     "output_type": "stream",
     "text": [
      "Persentil P25: 58.25\n",
      "Persentil P50 (Median): 69.0\n",
      "Persentil P75: 88.75\n"
     ]
    }
   ],
   "source": [
    "# mencari persentil\n",
    "\n",
    "P25 = data.quantile(0.25)  \n",
    "P50 = data.quantile(0.50)  \n",
    "P75 = data.quantile(0.75)  \n",
    "\n",
    "print(f\"Persentil P25: {P25}\")\n",
    "print(f\"Persentil P50 (Median): {P50}\")\n",
    "print(f\"Persentil P75: {P75}\")"
   ]
  }
 ],
 "metadata": {
  "kernelspec": {
   "display_name": "Python 3",
   "language": "python",
   "name": "python3"
  },
  "language_info": {
   "codemirror_mode": {
    "name": "ipython",
    "version": 3
   },
   "file_extension": ".py",
   "mimetype": "text/x-python",
   "name": "python",
   "nbconvert_exporter": "python",
   "pygments_lexer": "ipython3",
   "version": "3.12.3"
  }
 },
 "nbformat": 4,
 "nbformat_minor": 2
}
