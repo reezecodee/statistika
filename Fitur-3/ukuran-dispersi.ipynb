{
 "cells": [
  {
   "cell_type": "code",
   "execution_count": 1,
   "metadata": {},
   "outputs": [
    {
     "data": {
      "text/html": [
       "<div>\n",
       "<style scoped>\n",
       "    .dataframe tbody tr th:only-of-type {\n",
       "        vertical-align: middle;\n",
       "    }\n",
       "\n",
       "    .dataframe tbody tr th {\n",
       "        vertical-align: top;\n",
       "    }\n",
       "\n",
       "    .dataframe thead th {\n",
       "        text-align: right;\n",
       "    }\n",
       "</style>\n",
       "<table border=\"1\" class=\"dataframe\">\n",
       "  <thead>\n",
       "    <tr style=\"text-align: right;\">\n",
       "      <th></th>\n",
       "      <th>Rank</th>\n",
       "      <th>Name</th>\n",
       "      <th>Platform</th>\n",
       "      <th>Year</th>\n",
       "      <th>Genre</th>\n",
       "      <th>Publisher</th>\n",
       "      <th>NA_Sales</th>\n",
       "      <th>EU_Sales</th>\n",
       "      <th>JP_Sales</th>\n",
       "      <th>Other_Sales</th>\n",
       "      <th>Global_Sales</th>\n",
       "    </tr>\n",
       "  </thead>\n",
       "  <tbody>\n",
       "    <tr>\n",
       "      <th>0</th>\n",
       "      <td>1</td>\n",
       "      <td>Wii Sports</td>\n",
       "      <td>Wii</td>\n",
       "      <td>2006.0</td>\n",
       "      <td>Sports</td>\n",
       "      <td>Nintendo</td>\n",
       "      <td>41.49</td>\n",
       "      <td>29.02</td>\n",
       "      <td>3.77</td>\n",
       "      <td>8.46</td>\n",
       "      <td>82.74</td>\n",
       "    </tr>\n",
       "    <tr>\n",
       "      <th>1</th>\n",
       "      <td>2</td>\n",
       "      <td>Super Mario Bros.</td>\n",
       "      <td>NES</td>\n",
       "      <td>1985.0</td>\n",
       "      <td>Platform</td>\n",
       "      <td>Nintendo</td>\n",
       "      <td>29.08</td>\n",
       "      <td>3.58</td>\n",
       "      <td>6.81</td>\n",
       "      <td>0.77</td>\n",
       "      <td>40.24</td>\n",
       "    </tr>\n",
       "    <tr>\n",
       "      <th>2</th>\n",
       "      <td>3</td>\n",
       "      <td>Mario Kart Wii</td>\n",
       "      <td>Wii</td>\n",
       "      <td>2008.0</td>\n",
       "      <td>Racing</td>\n",
       "      <td>Nintendo</td>\n",
       "      <td>15.85</td>\n",
       "      <td>12.88</td>\n",
       "      <td>3.79</td>\n",
       "      <td>3.31</td>\n",
       "      <td>35.82</td>\n",
       "    </tr>\n",
       "    <tr>\n",
       "      <th>3</th>\n",
       "      <td>4</td>\n",
       "      <td>Wii Sports Resort</td>\n",
       "      <td>Wii</td>\n",
       "      <td>2009.0</td>\n",
       "      <td>Sports</td>\n",
       "      <td>Nintendo</td>\n",
       "      <td>15.75</td>\n",
       "      <td>11.01</td>\n",
       "      <td>3.28</td>\n",
       "      <td>2.96</td>\n",
       "      <td>33.00</td>\n",
       "    </tr>\n",
       "    <tr>\n",
       "      <th>4</th>\n",
       "      <td>5</td>\n",
       "      <td>Pokemon Red/Pokemon Blue</td>\n",
       "      <td>GB</td>\n",
       "      <td>1996.0</td>\n",
       "      <td>Role-Playing</td>\n",
       "      <td>Nintendo</td>\n",
       "      <td>11.27</td>\n",
       "      <td>8.89</td>\n",
       "      <td>10.22</td>\n",
       "      <td>1.00</td>\n",
       "      <td>31.37</td>\n",
       "    </tr>\n",
       "    <tr>\n",
       "      <th>...</th>\n",
       "      <td>...</td>\n",
       "      <td>...</td>\n",
       "      <td>...</td>\n",
       "      <td>...</td>\n",
       "      <td>...</td>\n",
       "      <td>...</td>\n",
       "      <td>...</td>\n",
       "      <td>...</td>\n",
       "      <td>...</td>\n",
       "      <td>...</td>\n",
       "      <td>...</td>\n",
       "    </tr>\n",
       "    <tr>\n",
       "      <th>16593</th>\n",
       "      <td>16596</td>\n",
       "      <td>Woody Woodpecker in Crazy Castle 5</td>\n",
       "      <td>GBA</td>\n",
       "      <td>2002.0</td>\n",
       "      <td>Platform</td>\n",
       "      <td>Kemco</td>\n",
       "      <td>0.01</td>\n",
       "      <td>0.00</td>\n",
       "      <td>0.00</td>\n",
       "      <td>0.00</td>\n",
       "      <td>0.01</td>\n",
       "    </tr>\n",
       "    <tr>\n",
       "      <th>16594</th>\n",
       "      <td>16597</td>\n",
       "      <td>Men in Black II: Alien Escape</td>\n",
       "      <td>GC</td>\n",
       "      <td>2003.0</td>\n",
       "      <td>Shooter</td>\n",
       "      <td>Infogrames</td>\n",
       "      <td>0.01</td>\n",
       "      <td>0.00</td>\n",
       "      <td>0.00</td>\n",
       "      <td>0.00</td>\n",
       "      <td>0.01</td>\n",
       "    </tr>\n",
       "    <tr>\n",
       "      <th>16595</th>\n",
       "      <td>16598</td>\n",
       "      <td>SCORE International Baja 1000: The Official Game</td>\n",
       "      <td>PS2</td>\n",
       "      <td>2008.0</td>\n",
       "      <td>Racing</td>\n",
       "      <td>Activision</td>\n",
       "      <td>0.00</td>\n",
       "      <td>0.00</td>\n",
       "      <td>0.00</td>\n",
       "      <td>0.00</td>\n",
       "      <td>0.01</td>\n",
       "    </tr>\n",
       "    <tr>\n",
       "      <th>16596</th>\n",
       "      <td>16599</td>\n",
       "      <td>Know How 2</td>\n",
       "      <td>DS</td>\n",
       "      <td>2010.0</td>\n",
       "      <td>Puzzle</td>\n",
       "      <td>7G//AMES</td>\n",
       "      <td>0.00</td>\n",
       "      <td>0.01</td>\n",
       "      <td>0.00</td>\n",
       "      <td>0.00</td>\n",
       "      <td>0.01</td>\n",
       "    </tr>\n",
       "    <tr>\n",
       "      <th>16597</th>\n",
       "      <td>16600</td>\n",
       "      <td>Spirits &amp; Spells</td>\n",
       "      <td>GBA</td>\n",
       "      <td>2003.0</td>\n",
       "      <td>Platform</td>\n",
       "      <td>Wanadoo</td>\n",
       "      <td>0.01</td>\n",
       "      <td>0.00</td>\n",
       "      <td>0.00</td>\n",
       "      <td>0.00</td>\n",
       "      <td>0.01</td>\n",
       "    </tr>\n",
       "  </tbody>\n",
       "</table>\n",
       "<p>16598 rows × 11 columns</p>\n",
       "</div>"
      ],
      "text/plain": [
       "        Rank                                              Name Platform  \\\n",
       "0          1                                        Wii Sports      Wii   \n",
       "1          2                                 Super Mario Bros.      NES   \n",
       "2          3                                    Mario Kart Wii      Wii   \n",
       "3          4                                 Wii Sports Resort      Wii   \n",
       "4          5                          Pokemon Red/Pokemon Blue       GB   \n",
       "...      ...                                               ...      ...   \n",
       "16593  16596                Woody Woodpecker in Crazy Castle 5      GBA   \n",
       "16594  16597                     Men in Black II: Alien Escape       GC   \n",
       "16595  16598  SCORE International Baja 1000: The Official Game      PS2   \n",
       "16596  16599                                        Know How 2       DS   \n",
       "16597  16600                                  Spirits & Spells      GBA   \n",
       "\n",
       "         Year         Genre   Publisher  NA_Sales  EU_Sales  JP_Sales  \\\n",
       "0      2006.0        Sports    Nintendo     41.49     29.02      3.77   \n",
       "1      1985.0      Platform    Nintendo     29.08      3.58      6.81   \n",
       "2      2008.0        Racing    Nintendo     15.85     12.88      3.79   \n",
       "3      2009.0        Sports    Nintendo     15.75     11.01      3.28   \n",
       "4      1996.0  Role-Playing    Nintendo     11.27      8.89     10.22   \n",
       "...       ...           ...         ...       ...       ...       ...   \n",
       "16593  2002.0      Platform       Kemco      0.01      0.00      0.00   \n",
       "16594  2003.0       Shooter  Infogrames      0.01      0.00      0.00   \n",
       "16595  2008.0        Racing  Activision      0.00      0.00      0.00   \n",
       "16596  2010.0        Puzzle    7G//AMES      0.00      0.01      0.00   \n",
       "16597  2003.0      Platform     Wanadoo      0.01      0.00      0.00   \n",
       "\n",
       "       Other_Sales  Global_Sales  \n",
       "0             8.46         82.74  \n",
       "1             0.77         40.24  \n",
       "2             3.31         35.82  \n",
       "3             2.96         33.00  \n",
       "4             1.00         31.37  \n",
       "...            ...           ...  \n",
       "16593         0.00          0.01  \n",
       "16594         0.00          0.01  \n",
       "16595         0.00          0.01  \n",
       "16596         0.00          0.01  \n",
       "16597         0.00          0.01  \n",
       "\n",
       "[16598 rows x 11 columns]"
      ]
     },
     "execution_count": 1,
     "metadata": {},
     "output_type": "execute_result"
    }
   ],
   "source": [
    "import pandas as pd\n",
    "import numpy as np\n",
    "\n",
    "from tabulate import tabulate\n",
    "\n",
    "df = pd.read_csv('../vgsales.csv')\n",
    "df"
   ]
  },
  {
   "cell_type": "code",
   "execution_count": 2,
   "metadata": {},
   "outputs": [
    {
     "name": "stdout",
     "output_type": "stream",
     "text": [
      "+---------------+-----------+\n",
      "|   Interval    | Frekuensi |\n",
      "+---------------+-----------+\n",
      "|  [0.0, 0.68)  |   16202   |\n",
      "| [0.68, 1.36)  |    251    |\n",
      "| [1.36, 2.04)  |    65     |\n",
      "| [2.04, 2.73)  |    32     |\n",
      "| [2.73, 3.41)  |    16     |\n",
      "| [3.41, 4.09)  |    12     |\n",
      "| [4.09, 4.77)  |    10     |\n",
      "| [4.77, 5.45)  |     4     |\n",
      "| [5.45, 6.13)  |     2     |\n",
      "| [6.13, 6.81)  |     2     |\n",
      "| [6.81, 7.49)  |     1     |\n",
      "| [7.49, 8.18)  |     0     |\n",
      "| [8.18, 8.86)  |     0     |\n",
      "| [8.86, 9.54)  |     0     |\n",
      "| [9.54, 10.23) |     1     |\n",
      "+---------------+-----------+\n"
     ]
    }
   ],
   "source": [
    "data = df['JP_Sales']\n",
    "\n",
    "# tentukan jumlah kelas dengan rumus Sturges\n",
    "num_classes = int(1 + 3.322 * np.log10(len(data)))\n",
    "\n",
    "# buat tabel distribusi frekuensi langsung\n",
    "frequency_table = pd.cut(\n",
    "    data, \n",
    "    bins=num_classes, \n",
    "    right=False, \n",
    "    precision=2\n",
    ").value_counts().sort_index().reset_index()\n",
    "\n",
    "frequency_table.columns = ['Interval', 'Frekuensi']\n",
    "\n",
    "print(tabulate(frequency_table, headers='keys', tablefmt='pretty', showindex=False))\n",
    "\n",
    "# konversi kolom Interval ke string\n",
    "frequency_table['Interval'] = frequency_table['Interval'].astype(str)"
   ]
  },
  {
   "cell_type": "code",
   "execution_count": 3,
   "metadata": {},
   "outputs": [
    {
     "name": "stdout",
     "output_type": "stream",
     "text": [
      "min: 0.0\n",
      "max: 10.22\n",
      "Range JP_Sales: 10.22\n"
     ]
    }
   ],
   "source": [
    "max = df['JP_Sales'].max()\n",
    "min = df['JP_Sales'].min()\n",
    "\n",
    "range = max - min\n",
    "\n",
    "print(f\"min: {min}\")\n",
    "print(f\"max: {max}\")\n",
    "print(f\"Range JP_Sales: {range}\")"
   ]
  },
  {
   "cell_type": "code",
   "execution_count": 4,
   "metadata": {},
   "outputs": [],
   "source": [
    "def titik_tengah(interval):\n",
    "    interval = interval.replace('[', '').replace(']', '').replace('(', '').replace(')', '')\n",
    "    tepi_bawah, tepi_atas = map(float, interval.split(', '))\n",
    "    return (tepi_bawah + tepi_atas) / 2\n",
    "\n",
    "total_frekuensi = frequency_table['Frekuensi'].sum()\n",
    "\n",
    "frequency_table['Titik Tengah'] = frequency_table['Interval'].apply(titik_tengah)\n",
    "frequency_table['Titik Tengah'] = frequency_table['Titik Tengah'].astype(float)\n",
    "frequency_table['Frekuensi'] = frequency_table['Frekuensi'].astype(int)\n",
    "\n"
   ]
  },
  {
   "cell_type": "code",
   "execution_count": 5,
   "metadata": {},
   "outputs": [
    {
     "name": "stdout",
     "output_type": "stream",
     "text": [
      "Rata-rata tertimbang (x̄): 0.37064314977708157\n"
     ]
    }
   ],
   "source": [
    "# rata-rata tertimbang\n",
    "\n",
    "rata_rata_tertimbang = (frequency_table['Titik Tengah'] * frequency_table['Frekuensi']).sum() / total_frekuensi\n",
    "\n",
    "print(f\"Rata-rata tertimbang (x̄): {rata_rata_tertimbang}\")\n"
   ]
  },
  {
   "cell_type": "code",
   "execution_count": 6,
   "metadata": {},
   "outputs": [
    {
     "name": "stdout",
     "output_type": "stream",
     "text": [
      "Simpangan rata-rata (SR): 0.05982411286760761\n"
     ]
    }
   ],
   "source": [
    "# simpangan rata-rata\n",
    "\n",
    "simpangan_rata_rata = ((abs(frequency_table['Titik Tengah'] - rata_rata_tertimbang) * frequency_table['Frekuensi']).sum()) / total_frekuensi\n",
    "\n",
    "print(f\"Simpangan rata-rata (SR): {simpangan_rata_rata}\")"
   ]
  },
  {
   "cell_type": "code",
   "execution_count": 7,
   "metadata": {},
   "outputs": [
    {
     "name": "stdout",
     "output_type": "stream",
     "text": [
      "Varians (σ²): 0.06890250387854739\n"
     ]
    }
   ],
   "source": [
    "# variance\n",
    "\n",
    "varians = ((frequency_table['Frekuensi'] * (frequency_table['Titik Tengah'] - rata_rata_tertimbang)**2).sum()) / total_frekuensi\n",
    "\n",
    "print(f\"Varians (σ²): {varians}\")\n"
   ]
  },
  {
   "cell_type": "code",
   "execution_count": 8,
   "metadata": {},
   "outputs": [
    {
     "name": "stdout",
     "output_type": "stream",
     "text": [
      "Simpangan Baku (σ): 0.262492864433583\n"
     ]
    }
   ],
   "source": [
    "# simpangan baku\n",
    "\n",
    "simpangan_baku = np.sqrt(varians)\n",
    "\n",
    "print(f\"Simpangan Baku (σ): {simpangan_baku}\")"
   ]
  },
  {
   "cell_type": "code",
   "execution_count": 9,
   "metadata": {},
   "outputs": [],
   "source": [
    "def hitung_persentil(kelas, frekuensi, persentil_ke):\n",
    "    # Tentukan posisi persentil\n",
    "    posisi_persentil = persentil_ke * (total_frekuensi + 1) / 100\n",
    "    \n",
    "    frekuensi_kumulatif = 0\n",
    "    for i, f in enumerate(frekuensi):\n",
    "        frekuensi_kumulatif += f\n",
    "        \n",
    "        if frekuensi_kumulatif >= posisi_persentil:  # Temukan kelas persentil\n",
    "            # Bersihkan interval dan konversi tepi bawah dan atas ke float\n",
    "            interval = kelas[i].replace('[', '').replace(']', '').replace('(', '').replace(')', '')\n",
    "            tepi_bawah, tepi_atas = map(float, interval.split(', '))\n",
    "            panjang_interval = tepi_atas - tepi_bawah  # Panjang interval kelas\n",
    "            f_p = f  # Frekuensi kelas persentil\n",
    "            sigma_f = frekuensi_kumulatif - f  # Frekuensi kumulatif sebelum kelas persentil\n",
    "            \n",
    "            # Hitung persentil menggunakan rumus\n",
    "            persentil = tepi_bawah + ((posisi_persentil - sigma_f) / f_p) * panjang_interval\n",
    "            return persentil\n",
    "\n",
    "# Tentukan kelas interval\n",
    "kelas = frequency_table['Interval'].values.tolist()"
   ]
  },
  {
   "cell_type": "code",
   "execution_count": 10,
   "metadata": {},
   "outputs": [
    {
     "name": "stdout",
     "output_type": "stream",
     "text": [
      "Kuartil ke-1 (Q1): 0.1741655351191211\n",
      "Kuartil ke-3 (Q3): 0.5224966053573633\n",
      "Jangkauan Kuartil (IQR): 0.34833107023824217\n"
     ]
    }
   ],
   "source": [
    "\n",
    "# jangkauan kuartil\n",
    "\n",
    "# hitung kuartil ke-1 (Q1) dan kuartil ke-3 (Q3)\n",
    "Q1 = hitung_persentil(kelas, frequency_table['Frekuensi'].values.tolist(), 25)\n",
    "Q3 = hitung_persentil(kelas, frequency_table['Frekuensi'].values.tolist(), 75)\n",
    "\n",
    "# hitung jangkauan kuartil (IQR)\n",
    "IQR = Q3 - Q1\n",
    "\n",
    "print(f\"Kuartil ke-1 (Q1): {Q1}\")\n",
    "print(f\"Kuartil ke-3 (Q3): {Q3}\")\n",
    "print(f\"Jangkauan Kuartil (IQR): {IQR}\")\n"
   ]
  },
  {
   "cell_type": "code",
   "execution_count": 11,
   "metadata": {},
   "outputs": [
    {
     "name": "stdout",
     "output_type": "stream",
     "text": [
      "Persentil ke-10 (P10): 0.06966621404764844\n",
      "Persentil ke-90 (P90): 0.6269959264288361\n",
      "Jangkauan Persentil (P90 - P10): 0.5573297123811876\n"
     ]
    }
   ],
   "source": [
    "# jangkauan persentil\n",
    "\n",
    "# hitung persentil yang diinginkan, misalnya P10 dan P90\n",
    "P10 = hitung_persentil(kelas, frequency_table['Frekuensi'].values.tolist(), 10)\n",
    "P90 = hitung_persentil(kelas, frequency_table['Frekuensi'].values.tolist(), 90)\n",
    "\n",
    "# hitung jangkauan persentil\n",
    "jangkauan_persentil = P90 - P10\n",
    "\n",
    "print(f\"Persentil ke-10 (P10): {P10}\")\n",
    "print(f\"Persentil ke-90 (P90): {P90}\")\n",
    "print(f\"Jangkauan Persentil (P90 - P10): {jangkauan_persentil}\")\n"
   ]
  }
 ],
 "metadata": {
  "kernelspec": {
   "display_name": "Python 3",
   "language": "python",
   "name": "python3"
  },
  "language_info": {
   "codemirror_mode": {
    "name": "ipython",
    "version": 3
   },
   "file_extension": ".py",
   "mimetype": "text/x-python",
   "name": "python",
   "nbconvert_exporter": "python",
   "pygments_lexer": "ipython3",
   "version": "3.12.3"
  }
 },
 "nbformat": 4,
 "nbformat_minor": 2
}
