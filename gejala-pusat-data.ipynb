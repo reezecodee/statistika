{
 "cells": [
  {
   "cell_type": "code",
   "execution_count": 43,
   "metadata": {},
   "outputs": [],
   "source": [
    "import pandas as pd\n",
    "import numpy as np\n",
    "import matplotlib.pyplot as plt\n",
    "\n",
    "from tabulate import tabulate"
   ]
  },
  {
   "cell_type": "code",
   "execution_count": 44,
   "metadata": {},
   "outputs": [],
   "source": [
    "df = pd.read_csv('vgsales.csv');"
   ]
  },
  {
   "cell_type": "code",
   "execution_count": null,
   "metadata": {},
   "outputs": [
    {
     "name": "stdout",
     "output_type": "stream",
     "text": [
      "         Interval  Frekuensi\n",
      "0      0.0 - 2.77      16427\n",
      "1     2.77 - 5.53        117\n",
      "2      5.53 - 8.3         29\n",
      "3     8.3 - 11.06         13\n",
      "4   11.06 - 13.83          3\n",
      "5    13.83 - 16.6          5\n",
      "6    16.6 - 19.36          0\n",
      "7   19.36 - 22.13          0\n",
      "8   22.13 - 24.89          1\n",
      "9   24.89 - 27.66          1\n",
      "10  27.66 - 30.43          1\n",
      "11  30.43 - 33.19          0\n",
      "12  33.19 - 35.96          0\n",
      "13  35.96 - 38.72          0\n",
      "14  38.72 - 41.49          0\n"
     ]
    }
   ],
   "source": [
    "# mengelompokan data\n",
    "data = df['NA_Sales']  # Ganti df dengan DataFrame Anda\n",
    "\n",
    "min_value = data.min()\n",
    "max_value = data.max()\n",
    "range_data = max_value - min_value\n",
    "\n",
    "# Hitung jumlah kelas dengan rumus Sturges\n",
    "n = len(data)  # Jumlah data\n",
    "num_classes = int(1 + 3.322 * np.log10(n))\n",
    "\n",
    "#  Hitung panjang interval\n",
    "class_width = range_data / num_classes\n",
    "\n",
    "# Tentukan batas interval\n",
    "bins = np.arange(min_value, max_value + class_width, class_width)\n",
    "\n",
    "# Buat tabel distribusi frekuensi\n",
    "labels = [f\"{round(bins[i], 2)} - {round(bins[i+1], 2)}\" for i in range(len(bins)-1)]\n",
    "frequency_table = pd.cut(data, bins=bins, labels=labels, right=False).value_counts().sort_index().reset_index()\n",
    "\n",
    "# Atur tabel menjadi lebih rapi\n",
    "frequency_table.columns = ['Interval', 'Frekuensi']"
   ]
  },
  {
   "cell_type": "code",
   "execution_count": 46,
   "metadata": {},
   "outputs": [
    {
     "name": "stdout",
     "output_type": "stream",
     "text": [
      "+---------------+-------------+\n",
      "| Interval      |   Frekuensi |\n",
      "+===============+=============+\n",
      "| 0.0 - 2.77    |       16427 |\n",
      "+---------------+-------------+\n",
      "| 2.77 - 5.53   |         117 |\n",
      "+---------------+-------------+\n",
      "| 5.53 - 8.3    |          29 |\n",
      "+---------------+-------------+\n",
      "| 8.3 - 11.06   |          13 |\n",
      "+---------------+-------------+\n",
      "| 11.06 - 13.83 |           3 |\n",
      "+---------------+-------------+\n",
      "| 13.83 - 16.6  |           5 |\n",
      "+---------------+-------------+\n",
      "| 16.6 - 19.36  |           0 |\n",
      "+---------------+-------------+\n",
      "| 19.36 - 22.13 |           0 |\n",
      "+---------------+-------------+\n",
      "| 22.13 - 24.89 |           1 |\n",
      "+---------------+-------------+\n",
      "| 24.89 - 27.66 |           1 |\n",
      "+---------------+-------------+\n",
      "| 27.66 - 30.43 |           1 |\n",
      "+---------------+-------------+\n",
      "| 30.43 - 33.19 |           0 |\n",
      "+---------------+-------------+\n",
      "| 33.19 - 35.96 |           0 |\n",
      "+---------------+-------------+\n",
      "| 35.96 - 38.72 |           0 |\n",
      "+---------------+-------------+\n",
      "| 38.72 - 41.49 |           0 |\n",
      "+---------------+-------------+\n"
     ]
    }
   ],
   "source": [
    "# Data tabel frekuensi\n",
    "data = frequency_table.values.tolist()  # Konversi DataFrame ke list of lists\n",
    "headers = [\"Interval\", \"Frekuensi\"]  # Header untuk tabel\n",
    "\n",
    "# Membuat tabel menggunakan tabulate\n",
    "table = tabulate(data, headers=headers, tablefmt=\"grid\")\n",
    "\n",
    "# Menampilkan tabel\n",
    "print(table)"
   ]
  },
  {
   "cell_type": "code",
   "execution_count": 47,
   "metadata": {},
   "outputs": [],
   "source": [
    "intervals = frequency_table['Interval'].to_list()\n",
    "frequencies = frequency_table['Frekuensi'].to_list()"
   ]
  },
  {
   "cell_type": "code",
   "execution_count": 48,
   "metadata": {},
   "outputs": [
    {
     "name": "stdout",
     "output_type": "stream",
     "text": [
      "Titik tengah (m_i): [1.385, 4.15, 6.915000000000001, 9.68, 12.445, 15.215, 17.98, 20.744999999999997, 23.509999999999998, 26.275, 29.045, 31.81, 34.575, 37.34, 40.105000000000004]\n",
      "f_i * m_i: [22751.395, 485.55000000000007, 200.53500000000003, 125.84, 37.335, 76.075, 0.0, 0.0, 23.509999999999998, 26.275, 29.045, 0.0, 0.0, 0.0, 0.0]\n",
      "Rata-rata hitung: 1.43\n"
     ]
    }
   ],
   "source": [
    "# mencari hitung rata-rata\n",
    "midpoints = []\n",
    "\n",
    "# hitung titik tengah\n",
    "for interval in intervals:\n",
    "    lower, upper = map(float, interval.split(' - '))\n",
    "    midpoints.append((lower + upper) / 2)\n",
    "\n",
    "# hitung f_i * m_i\n",
    "fx = [f * m for f, m in zip(frequencies, midpoints)]\n",
    "\n",
    "# hitung total f_i * m_i dan total f_i\n",
    "total_fx = sum(fx)\n",
    "total_f = sum(frequencies)\n",
    "\n",
    "# hitung rata-rata\n",
    "mean = total_fx / total_f\n",
    "\n",
    "print(f\"Titik tengah (m_i): {midpoints}\")\n",
    "print(f\"f_i * m_i: {fx}\")\n",
    "print(f\"Rata-rata hitung: {mean:.2f}\")\n"
   ]
  },
  {
   "cell_type": "code",
   "execution_count": 49,
   "metadata": {},
   "outputs": [
    {
     "name": "stdout",
     "output_type": "stream",
     "text": [
      "Jumlah frekuensi (N): 16597\n",
      "Kelas median: 0.0 - 2.77\n",
      "Tepi bawah kelas median (L_m): -0.5\n",
      "Frekuensi kelas median (f_m): 16427\n",
      "Frekuensi kumulatif sebelum kelas median (Σf): 0\n",
      "Panjang interval kelas (c): 2.77\n",
      "Median: 0.90\n"
     ]
    }
   ],
   "source": [
    "# mencari median\n",
    "\n",
    "# hitung frekuensi\n",
    "total_frequency = sum(frequencies)\n",
    "\n",
    "# menentukan kelas median\n",
    "N_2 = total_frequency / 2\n",
    "cumulative_frequency = 0\n",
    "median_class_index = -1\n",
    "\n",
    "for i, f in enumerate(frequencies):\n",
    "    cumulative_frequency += f\n",
    "    if cumulative_frequency >= N_2:\n",
    "        median_class_index = i\n",
    "        break\n",
    "\n",
    "if median_class_index == -1:\n",
    "    raise ValueError(\"Tidak ditemukan kelas median. Periksa data input.\")\n",
    "\n",
    "# hitung komponen rumus median\n",
    "lower_bound, upper_bound = map(float, intervals[median_class_index].split(' - '))\n",
    "l_m = lower_bound - 0.5\n",
    "f_m = frequencies[median_class_index]\n",
    "cumulative_frequency_above = cumulative_frequency - f_m\n",
    "c = upper_bound - lower_bound\n",
    "\n",
    "median = l_m + ((N_2 - cumulative_frequency_above) / f_m) * c\n",
    "\n",
    "print(f\"Jumlah frekuensi (N): {total_frequency}\")\n",
    "print(f\"Kelas median: {intervals[median_class_index]}\")\n",
    "print(f\"Tepi bawah kelas median (L_m): {l_m}\")\n",
    "print(f\"Frekuensi kelas median (f_m): {f_m}\")\n",
    "print(f\"Frekuensi kumulatif sebelum kelas median (Σf): {cumulative_frequency_above}\")\n",
    "print(f\"Panjang interval kelas (c): {c}\")\n",
    "\n",
    "print(f\"Median: {median:.2f}\")"
   ]
  },
  {
   "cell_type": "code",
   "execution_count": 50,
   "metadata": {},
   "outputs": [
    {
     "name": "stdout",
     "output_type": "stream",
     "text": [
      "Kelas modus: 0.0 - 2.77\n",
      "Tepi bawah kelas modus (L_mo): -0.5\n",
      "d1: 16427\n",
      "d2: 16310\n",
      "Panjang interval kelas (c): 2.77\n",
      "Modus: 0.89\n"
     ]
    }
   ],
   "source": [
    "# hitung modus\n",
    "max_frequency = max(frequencies)\n",
    "modus_class_index = frequencies.index(max_frequency)\n",
    "\n",
    "# komponen rumus modus\n",
    "lower_bound, upper_bound = map(float, intervals[modus_class_index].split(' - '))\n",
    "l_mo = lower_bound  - 0.5\n",
    "c = upper_bound - lower_bound\n",
    "d1 = max_frequency - (frequencies[modus_class_index - 1] if modus_class_index > 0 else 0)\n",
    "d2 = max_frequency - (frequencies[modus_class_index + 1] if modus_class_index < len(frequencies) -1 else 0)\n",
    "\n",
    "# hitung modus\n",
    "modus = l_mo + (d1 / (d1 + d2)) * c\n",
    "\n",
    "print(f\"Kelas modus: {intervals[modus_class_index]}\")\n",
    "print(f\"Tepi bawah kelas modus (L_mo): {l_mo}\")\n",
    "print(f\"d1: {d1}\")\n",
    "print(f\"d2: {d2}\")\n",
    "print(f\"Panjang interval kelas (c): {c}\")\n",
    "print(f\"Modus: {modus:.2f}\")"
   ]
  },
  {
   "cell_type": "code",
   "execution_count": 51,
   "metadata": {},
   "outputs": [
    {
     "ename": "ValueError",
     "evalue": "too many values to unpack (expected 2)",
     "output_type": "error",
     "traceback": [
      "\u001b[1;31m---------------------------------------------------------------------------\u001b[0m",
      "\u001b[1;31mValueError\u001b[0m                                Traceback (most recent call last)",
      "Cell \u001b[1;32mIn[51], line 25\u001b[0m\n\u001b[0;32m     22\u001b[0m             q \u001b[38;5;241m=\u001b[39m l_q \u001b[38;5;241m+\u001b[39m ((position \u001b[38;5;241m-\u001b[39m freq_before) \u001b[38;5;241m/\u001b[39m f_q) \u001b[38;5;241m*\u001b[39m class_width\n\u001b[0;32m     23\u001b[0m             \u001b[38;5;28;01mreturn\u001b[39;00m q\n\u001b[1;32m---> 25\u001b[0m q1 \u001b[38;5;241m=\u001b[39m \u001b[43mcalculate_quartil\u001b[49m\u001b[43m(\u001b[49m\u001b[38;5;241;43m1\u001b[39;49m\u001b[43m,\u001b[49m\u001b[43m \u001b[49m\u001b[43mfrequencies\u001b[49m\u001b[43m,\u001b[49m\u001b[43m \u001b[49m\u001b[43mintervals\u001b[49m\u001b[43m,\u001b[49m\u001b[43m \u001b[49m\u001b[43mtotal_frequencies\u001b[49m\u001b[43m)\u001b[49m\n\u001b[0;32m     26\u001b[0m q2 \u001b[38;5;241m=\u001b[39m calculate_quartil(\u001b[38;5;241m2\u001b[39m, frequencies, intervals, total_frequencies)\n\u001b[0;32m     27\u001b[0m q3 \u001b[38;5;241m=\u001b[39m calculate_quartil(\u001b[38;5;241m3\u001b[39m, frequencies, intervals, total_frequencies)\n",
      "Cell \u001b[1;32mIn[51], line 16\u001b[0m, in \u001b[0;36mcalculate_quartil\u001b[1;34m(i, frequencies, intervals, total_frequencies)\u001b[0m\n\u001b[0;32m     13\u001b[0m cumulative_freq \u001b[38;5;241m+\u001b[39m\u001b[38;5;241m=\u001b[39m freq\n\u001b[0;32m     15\u001b[0m \u001b[38;5;28;01mif\u001b[39;00m cumulative_freq \u001b[38;5;241m>\u001b[39m\u001b[38;5;241m=\u001b[39m position:\n\u001b[1;32m---> 16\u001b[0m     lower_limit, upper_limit \u001b[38;5;241m=\u001b[39m intervals[idx]\n\u001b[0;32m     17\u001b[0m     freq_before \u001b[38;5;241m=\u001b[39m cumulative_freq \u001b[38;5;241m-\u001b[39m freq\n\u001b[0;32m     18\u001b[0m     class_width \u001b[38;5;241m=\u001b[39m upper_limit \u001b[38;5;241m-\u001b[39m lower_limit\n",
      "\u001b[1;31mValueError\u001b[0m: too many values to unpack (expected 2)"
     ]
    }
   ],
   "source": [
    "# mengitung kuartil\n",
    "\n",
    "total_frequencies = sum(frequencies)\n",
    "\n",
    "def calcualte_position(i, total_frequencies):\n",
    "    return (i * total_frequencies) / 4\n",
    "\n",
    "def calculate_quartil(i, frequencies, intervals, total_frequencies):\n",
    "    position = calcualte_position(i, total_frequencies)\n",
    "    cumulative_freq = 0\n",
    "\n",
    "    for idx, freq in enumerate(frequencies):\n",
    "        cumulative_freq += freq\n",
    "\n",
    "        if cumulative_freq >= position:\n",
    "            lower_limit, upper_limit = intervals[idx]\n",
    "            freq_before = cumulative_freq - freq\n",
    "            class_width = upper_limit - lower_limit\n",
    "            l_q = lower_limit\n",
    "            f_q = freq\n",
    "\n",
    "            q = l_q + ((position - freq_before) / f_q) * class_width\n",
    "            return q\n",
    "\n",
    "q1 = calculate_quartil(1, frequencies, intervals, total_frequencies)\n",
    "q2 = calculate_quartil(2, frequencies, intervals, total_frequencies)\n",
    "q3 = calculate_quartil(3, frequencies, intervals, total_frequencies)\n",
    "\n",
    "print(f\"Kuartil pertama (Q1): {q1:.2f}\")\n",
    "print(f\"Kuartil kedua (Q2 - Median): {q2:.2f}\")\n",
    "print(f\"Kuartil ketiga (Q3): {q3:.2f}\")"
   ]
  }
 ],
 "metadata": {
  "kernelspec": {
   "display_name": "Python 3",
   "language": "python",
   "name": "python3"
  },
  "language_info": {
   "codemirror_mode": {
    "name": "ipython",
    "version": 3
   },
   "file_extension": ".py",
   "mimetype": "text/x-python",
   "name": "python",
   "nbconvert_exporter": "python",
   "pygments_lexer": "ipython3",
   "version": "3.12.3"
  }
 },
 "nbformat": 4,
 "nbformat_minor": 2
}
